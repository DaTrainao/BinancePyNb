{
 "cells": [
  {
   "cell_type": "markdown",
   "metadata": {},
   "source": [
    "# Initialize and Overwrite 'print'"
   ]
  },
  {
   "cell_type": "code",
   "execution_count": null,
   "metadata": {},
   "outputs": [],
   "source": [
    "%run 'dabinance/bot.ipynb'\n",
    "client = Client(api_key, api_secret)\n",
    "print_queue = []\n",
    "from time import sleep\n",
    "def print(*data):\n",
    "    string = \"\"\n",
    "    for s in data:\n",
    "        string += ' {}'.format(str(s))\n",
    "    print_queue.append(string)\n",
    "    for x in range(len(print_queue)):\n",
    "        __builtin__.print(print_queue.pop())"
   ]
  },
  {
   "cell_type": "code",
   "execution_count": null,
   "metadata": {},
   "outputs": [],
   "source": [
    "from pyti.bollinger_bands import lower_bollinger_band as LBB\n",
    "from pyti.bollinger_bands import middle_bollinger_band as MBB\n",
    "from pyti.bollinger_bands import upper_bollinger_band as UBB\n",
    "from pyti.exponential_moving_average import exponential_moving_average as EMA\n",
    "from pyti.money_flow_index import money_flow_index as MFI\n",
    "from pyti.moving_average_convergence_divergence import moving_average_convergence_divergence as MACD\n",
    "from pyti.relative_strength_index import relative_strength_index as RSI\n",
    "from pyti.momentum import momentum as MOM\n",
    "\n",
    "\n",
    "bb_len = 20\n",
    "ema_sig_len = 256\n",
    "mfi_len = 16\n",
    "macd_short = 11\n",
    "macd_long = 21\n",
    "macd_len = 9\n",
    "rsi_len = 16\n",
    "mom_len = 12\n",
    "\n",
    "I_HAO = 'Heiken Ashi Opens'\n",
    "I_HAH = 'Heiken Ashi Highs'\n",
    "I_HAL = 'Heiken Ashi Lows'\n",
    "I_HAC = 'Heiken Ashi Closes'\n",
    "I_BBU = 'Bollinger Band Uppers'\n",
    "I_BBM = 'Bollinger Band Middles'\n",
    "I_BBL = 'Bollinger Band Lowers'\n",
    "I_MFI = 'Money Flow Indexes'\n",
    "I_RSI = 'Relative Strength Indexes'\n",
    "I_MACD = 'Moving Average Converging Differences'\n",
    "I_MACD_SIGNAL = 'Moving Average Converging Difference Signals'\n",
    "I_MACD_DELTA = 'Moving Average Converging Difference Delta'\n",
    "I_MOM = 'Momentum'\n",
    "I_TRR = 'True Range'\n",
    "\n",
    "\n",
    "def calc_heiken_ashi(coin):\n",
    "    hao = [0] + [(cs[0]+cs[1])/2 for cs in zip(coin.opens, coin.closes)]\n",
    "    coin.indicator_results[I_HAO] = hao[:-1]\n",
    "    coin.indicator_results[I_HAH] = [max(cs) for cs in zip(coin.opens, coin.highs, coin.closes)]\n",
    "    coin.indicator_results[I_HAL] = [min(cs) for cs in zip(coin.opens, coin.lows, coin.lows)]\n",
    "    coin.indicator_results[I_HAC] = [(cs[0]+cs[1]+cs[2]+cs[3])/4 for cs in zip(coin.opens, coin.highs, coin.lows, coin.closes)]\n",
    "\n",
    "def calc_bollinger_bands(coin):\n",
    "    coin.indicator_results[I_BBU] = UBB(coin.indicator_results[I_HAC], bb_len)\n",
    "    coin.indicator_results[I_BBM] = MBB(coin.indicator_results[I_HAC], bb_len)\n",
    "    coin.indicator_results[I_BBL] = LBB(coin.indicator_results[I_HAC], bb_len)\n",
    "\n",
    "def calc_indexes(coin):\n",
    "    coin.indicator_results[I_MFI] = MFI(coin.indicator_results[I_HAC], coin.indicator_results[I_HAH], coin.indicator_results[I_HAL], coin.volumes, mfi_len)\n",
    "    coin.indicator_results[I_RSI] = RSI(coin.indicator_results[I_HAC], rsi_len)\n",
    "    \n",
    "def calc_emas_macds(coin):\n",
    "    coin.indicator_results[I_MACD] = EMA(coin.indicator_results[I_HAC], macd_short) - EMA(coin.indicator_results[I_HAC], macd_long)\n",
    "    coin.indicator_results[I_MACD_SIGNAL] = EMA(coin.indicator_results[I_MACD],macd_len)\n",
    "    coin.indicator_results[I_MACD_DELTA] = coin.indicator_results[I_MACD] - coin.indicator_results[I_MACD_SIGNAL]\n",
    "\n",
    "def calc_momentum(coin):\n",
    "    coin.indicator_results[I_MOM] = MOM(coin.indicator_results[I_HAC], mom_len)\n",
    "\n",
    "def calc_indicators(coin):\n",
    "    calc_heiken_ashi(coin)\n",
    "    calc_bollinger_bands(coin)\n",
    "    calc_emas_macds(coin)\n",
    "    calc_indexes(coin)\n",
    "    calc_momentum(coin)\n",
    "    return ['Successful']"
   ]
  },
  {
   "cell_type": "code",
   "execution_count": null,
   "metadata": {},
   "outputs": [],
   "source": [
    "darbot = Bot(client)"
   ]
  },
  {
   "cell_type": "code",
   "execution_count": null,
   "metadata": {},
   "outputs": [],
   "source": [
    "darbot.add_coin(Coin(client, 'BNB', 'USDT'))\n",
    "darbot.update_coin(darbot.coins['BNBUSDT'])"
   ]
  },
  {
   "cell_type": "code",
   "execution_count": null,
   "metadata": {},
   "outputs": [],
   "source": [
    "darbot.add_indicator(Indicator('Indicator Calculator', calc_indicators))"
   ]
  },
  {
   "cell_type": "code",
   "execution_count": null,
   "metadata": {
    "scrolled": true
   },
   "outputs": [],
   "source": [
    "darbot.calculate_indicators(darbot.coins['BNBUSDT'])"
   ]
  },
  {
   "cell_type": "code",
   "execution_count": null,
   "metadata": {},
   "outputs": [],
   "source": [
    "darbot.start()"
   ]
  },
  {
   "cell_type": "code",
   "execution_count": null,
   "metadata": {
    "scrolled": false
   },
   "outputs": [],
   "source": [
    "import matplotlib.pyplot as plt\n",
    "import matplotlib.ticker as mticker\n",
    "from mpl_finance import candlestick2_ohlc\n",
    "\n",
    "mfi_low = 30\n",
    "mfi_high = 70\n",
    "macd_min = 0.005\n",
    "trend_len = 8\n",
    "\n",
    "def print_indicators(coin):\n",
    "    print(len(coin.indicator_results[I_HAO]))\n",
    "    print(len(coin.indicator_results[I_HAH]))\n",
    "    print(len(coin.indicator_results[I_HAL]))\n",
    "    print(len(coin.indicator_results[I_HAC]))\n",
    "    \n",
    "    pema = EMA(coin.indicator_results[I_HAC], 256)\n",
    "    bema = EMA(coin.indicator_results[I_HAC], 64)\n",
    "    yema = EMA(coin.indicator_results[I_HAC], 32)\n",
    "    oema = EMA(coin.indicator_results[I_HAC], 8)\n",
    "    \n",
    "    length = 100\n",
    "    \n",
    "    plt.figure(figsize=(16,8))\n",
    "    ax1 = plt.subplot2grid((7,1), (1,0), rowspan=4)\n",
    "    ax2 = plt.subplot2grid((7,1), (5,0), rowspan=1)\n",
    "    ax3 = plt.subplot2grid((7,1), (0,0), rowspan=1)\n",
    "    ax4 = plt.subplot2grid((7,1), (6,0), rowspan=1)\n",
    "    \n",
    "    plt.xlabel('Bar #/#')\n",
    "    plt.ylabel('Price')\n",
    "    \n",
    "    ax1.grid(True)\n",
    "    ax2.grid(True)\n",
    "    ax4.grid(True)\n",
    "    \n",
    "    candlestick2_ohlc(ax1, \n",
    "        coin.indicator_results[I_HAO][-length:], \n",
    "        coin.indicator_results[I_HAH][-length:], \n",
    "        coin.indicator_results[I_HAL][-length:], \n",
    "        coin.indicator_results[I_HAC][-length:], width=0.4, colorup='g')\n",
    "    \n",
    "    #ax1.plot(pema[-length:], color='#531b82', lw=1)\n",
    "    #ax1.plot(bema[-length:], color='#192593', lw=1)\n",
    "    ax1.plot(yema[-length:], color='#cdd114', lw=1)\n",
    "    ax1.plot(oema[-length:], color='#af6e0c', lw=1)\n",
    "    \n",
    "    ax2.plot([0]*length,color='k',lw=0.5)\n",
    "    ax2.plot(coin.indicator_results[I_MACD][-length:], color='#e8851b',lw=1.2,ls='--')\n",
    "    \n",
    "    ax3.plot([mfi_high]*length,color='k',lw=0.8)\n",
    "    ax3.plot([mfi_low]*length,color='k',lw=0.8)\n",
    "    ax3.plot(coin.indicator_results[I_MFI][-length:],lw=0.8)\n",
    "    \n",
    "    ax4.plot(coin.indicator_results[I_MOM][-length:],lw=0.4)"
   ]
  },
  {
   "cell_type": "code",
   "execution_count": null,
   "metadata": {},
   "outputs": [],
   "source": [
    "darbot.screen_coins(print_indicators)\n",
    "plt.show()"
   ]
  },
  {
   "cell_type": "code",
   "execution_count": null,
   "metadata": {},
   "outputs": [],
   "source": []
  }
 ],
 "metadata": {
  "kernelspec": {
   "display_name": "Python 3",
   "language": "python",
   "name": "python3"
  },
  "language_info": {
   "codemirror_mode": {
    "name": "ipython",
    "version": 3
   },
   "file_extension": ".py",
   "mimetype": "text/x-python",
   "name": "python",
   "nbconvert_exporter": "python",
   "pygments_lexer": "ipython3",
   "version": "3.6.5"
  }
 },
 "nbformat": 4,
 "nbformat_minor": 2
}
